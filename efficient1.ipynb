{
 "cells": [
  {
   "cell_type": "code",
   "execution_count": 167,
   "outputs": [],
   "source": [
    "import time\n"
   ],
   "metadata": {
    "collapsed": false,
    "pycharm": {
     "name": "#%%\n"
    }
   }
  },
  {
   "cell_type": "code",
   "execution_count": 168,
   "outputs": [],
   "source": [
    "def suffixArray(s):\n",
    "    s = s + '$'\n",
    "    suffixes = [(s[i:], i) for i in range(len(s))]\n",
    "    suffixes.sort(key=lambda x: x[0])\n",
    "    indices = [j[1] for j in suffixes]\n",
    "    suffixes = [j[0] for j in suffixes]\n",
    "    return suffixes, indices"
   ],
   "metadata": {
    "collapsed": false,
    "pycharm": {
     "name": "#%%\n"
    }
   }
  },
  {
   "cell_type": "code",
   "execution_count": 169,
   "metadata": {
    "collapsed": true
   },
   "outputs": [],
   "source": [
    "hound_of_baskerville = open('HoundOfBaskerville.txt', 'r+', encoding='utf-8').read()\n"
   ]
  },
  {
   "cell_type": "code",
   "execution_count": 170,
   "outputs": [
    {
     "name": "stdout",
     "output_type": "stream",
     "text": [
      "['$', 'a$', 'ana$', 'anana$', 'banana$', 'na$', 'nana$'] [6, 5, 3, 1, 0, 4, 2]\n"
     ]
    }
   ],
   "source": [
    "s = 'banana'\n",
    "suff, indis = suffixArray(s)\n",
    "print(suff, indis)"
   ],
   "metadata": {
    "collapsed": false,
    "pycharm": {
     "name": "#%%\n"
    }
   }
  },
  {
   "cell_type": "code",
   "execution_count": 171,
   "outputs": [
    {
     "name": "stdout",
     "output_type": "stream",
     "text": [
      "suffix array done\n"
     ]
    }
   ],
   "source": [
    "suffix_hob, indices_hob = suffixArray(hound_of_baskerville)\n",
    "print('suffix array done')\n",
    "\n"
   ],
   "metadata": {
    "collapsed": false,
    "pycharm": {
     "name": "#%%\n"
    }
   }
  },
  {
   "cell_type": "code",
   "execution_count": 172,
   "outputs": [],
   "source": [
    "def lcp_1(A):\n",
    "    lcp_arr = []\n",
    "    for i in range(0, len(A) - 1):\n",
    "        cur = A[i]\n",
    "        next = A[i + 1]\n",
    "        lcp = 0\n",
    "        for j in range(0, len(cur) + 1):\n",
    "            if j >= len(cur) or j >= len(next) or cur[j] != next[j]:\n",
    "                break\n",
    "            else:\n",
    "                lcp = lcp + 1\n",
    "        lcp_arr.append(lcp)\n",
    "    lcp_arr.append(0)\n",
    "    return lcp_arr\n",
    "\n"
   ],
   "metadata": {
    "collapsed": false,
    "pycharm": {
     "name": "#%%\n"
    }
   }
  },
  {
   "cell_type": "code",
   "execution_count": 173,
   "outputs": [],
   "source": [
    "def precomputeBinaryLCPs(LCP1):\n",
    "    LLCP = [ None ] * (len(LCP1))\n",
    "    RLCP = [ None ] * (len(LCP1))\n",
    "    def rekursiveBinaryLCPs(L,R):\n",
    "        if L==R-1:\n",
    "            return LCP1[L]\n",
    "        M = (L + R) // 2\n",
    "        LLCP[M] = rekursiveBinaryLCPs(L,M)\n",
    "        RLCP[M] = rekursiveBinaryLCPs(M,R)\n",
    "        return min(LLCP[M], RLCP[M])\n",
    "    rekursiveBinaryLCPs(0,len(LCP1))\n",
    "    LLCP[0] = 0\n",
    "    RLCP[0] = 0\n",
    "    return LLCP, RLCP"
   ],
   "metadata": {
    "collapsed": false,
    "pycharm": {
     "name": "#%%\n"
    }
   }
  },
  {
   "cell_type": "code",
   "execution_count": 174,
   "outputs": [],
   "source": [
    "def binary_search(txt, A, search_str, LLCP, RLCP):\n",
    "     lcp_pl = 0\n",
    "     lcp_pr = 0\n",
    "     left = 0\n",
    "     right = len(A)\n",
    "     counter = 0\n",
    "     while True:\n",
    "         go_left = True\n",
    "         mid = (left + right) // 2\n",
    "         i = min(lcp_pl, lcp_pr)\n",
    "         while (i < len(search_str)) and (A[mid]+i < len(txt)):\n",
    "             if lcp_pl >= lcp_pr:\n",
    "                if LLCP[mid] > lcp_pl:\n",
    "                    go_left = False\n",
    "                    break\n",
    "                elif LLCP[mid] < lcp_pl:\n",
    "                    go_left = True\n",
    "                    break\n",
    "                elif LLCP[mid] == lcp_pl:\n",
    "                    counter += 1\n",
    "                    if search_str[i] < txt[A[mid] + i]:\n",
    "                        go_left = True\n",
    "                        break\n",
    "                    elif search_str[i] > txt[A[mid] + i]:\n",
    "                        go_left = False\n",
    "                        break\n",
    "             elif lcp_pl < lcp_pr:\n",
    "                if RLCP[mid] > lcp_pr:\n",
    "                    go_left = True\n",
    "                    break\n",
    "                elif RLCP[mid] < lcp_pr:\n",
    "                    go_left = False\n",
    "                    break\n",
    "                elif RLCP[mid] == lcp_pr:\n",
    "                    counter += 1\n",
    "                    if search_str[i] < txt[A[mid] + i]:\n",
    "                        go_left = True\n",
    "                        break\n",
    "                    elif search_str[i] > txt[A[mid] + i]:\n",
    "                        go_left = False\n",
    "                        break\n",
    "             i += 1\n",
    "\n",
    "\n",
    "         if go_left:\n",
    "             if mid == left + 1:\n",
    "                 return mid, counter\n",
    "             right = mid\n",
    "             lcp_pr = i\n",
    "         else:\n",
    "             if mid == right - 1:\n",
    "                 return right, counter\n",
    "             left = mid\n",
    "             lcp_pl = i\n"
   ],
   "metadata": {
    "collapsed": false,
    "pycharm": {
     "name": "#%%\n"
    }
   }
  },
  {
   "cell_type": "code",
   "execution_count": 175,
   "outputs": [
    {
     "name": "stdout",
     "output_type": "stream",
     "text": [
      "Charles:  17687 22\n",
      "hound:  39731 20\n",
      "know:  44061 17\n"
     ]
    }
   ],
   "source": [
    "\n",
    "\n",
    "lcp1 = lcp_1(suffix_hob)\n",
    "LLCP, RLCP = precomputeBinaryLCPs(lcp1)\n",
    "\n",
    "mid, counter = binary_search(hound_of_baskerville, indices_hob, 'Charles', LLCP, RLCP)\n",
    "print('Charles: ',mid, counter)\n",
    "\n",
    "mid, counter = binary_search(hound_of_baskerville, indices_hob, 'hound', LLCP, RLCP)\n",
    "print('hound: ',mid, counter)\n",
    "\n",
    "mid, counter = binary_search(hound_of_baskerville, indices_hob, 'know', LLCP, RLCP)\n",
    "print('know: ',mid, counter)"
   ],
   "metadata": {
    "collapsed": false,
    "pycharm": {
     "name": "#%%\n"
    }
   }
  },
  {
   "cell_type": "code",
   "execution_count": 176,
   "outputs": [],
   "source": [
    "def count_left_right_occurrence(lcp, search_str, mid_index):\n",
    "    if mid_index >= len(lcp):\n",
    "        return 0\n",
    "    left = mid_index\n",
    "    right = mid_index\n",
    "    counter = 0\n",
    "\n",
    "    print('vorkommen rechts: ')\n",
    "    while len(lcp) > right and lcp[right] >= len(search_str):\n",
    "        print(right)\n",
    "        right += 1\n",
    "        counter += 1\n",
    "    print('vorkommen links: ')\n",
    "    while left > 0 and lcp[left - 1] >= len(search_str):\n",
    "        left -= 1\n",
    "        print(left)\n",
    "        counter += 1\n",
    "\n",
    "    return counter"
   ],
   "metadata": {
    "collapsed": false,
    "pycharm": {
     "name": "#%%\n"
    }
   }
  },
  {
   "cell_type": "code",
   "execution_count": 177,
   "outputs": [
    {
     "name": "stdout",
     "output_type": "stream",
     "text": [
      "vorkommen rechts: \n",
      "17687\n",
      "17688\n",
      "17689\n",
      "17690\n",
      "17691\n",
      "17692\n",
      "17693\n",
      "17694\n",
      "17695\n",
      "17696\n",
      "17697\n",
      "17698\n",
      "17699\n",
      "17700\n",
      "17701\n",
      "17702\n",
      "17703\n",
      "17704\n",
      "17705\n",
      "17706\n",
      "17707\n",
      "17708\n",
      "17709\n",
      "17710\n",
      "17711\n",
      "17712\n",
      "17713\n",
      "17714\n",
      "17715\n",
      "17716\n",
      "vorkommen links: \n",
      "such wort:  Charles\n",
      "vergleiche:  22\n",
      "erster Fund:  17687\n",
      "vorkommen:  30\n",
      "vorkommen rechts: \n",
      "39731\n",
      "39732\n",
      "39733\n",
      "39734\n",
      "39735\n",
      "39736\n",
      "39737\n",
      "39738\n",
      "39739\n",
      "39740\n",
      "39741\n",
      "39742\n",
      "vorkommen links: \n",
      "such wort:  hound\n",
      "vergleiche:  20\n",
      "erster Fund:  39731\n",
      "vorkommen:  12\n",
      "vorkommen rechts: \n",
      "44061\n",
      "44062\n",
      "44063\n",
      "44064\n",
      "44065\n",
      "44066\n",
      "44067\n",
      "44068\n",
      "44069\n",
      "44070\n",
      "44071\n",
      "44072\n",
      "44073\n",
      "44074\n",
      "44075\n",
      "44076\n",
      "44077\n",
      "44078\n",
      "44079\n",
      "44080\n",
      "44081\n",
      "44082\n",
      "44083\n",
      "44084\n",
      "44085\n",
      "44086\n",
      "44087\n",
      "44088\n",
      "44089\n",
      "44090\n",
      "44091\n",
      "44092\n",
      "vorkommen links: \n",
      "44060\n",
      "such wort:  know\n",
      "vergleiche:  17\n",
      "erster Fund:  44061\n",
      "vorkommen:  33\n"
     ]
    }
   ],
   "source": [
    "\n",
    "strings = ['Charles', 'hound', 'know']\n",
    "for str in strings:\n",
    "    mid_index, counter = binary_search(hound_of_baskerville, indices_hob, str, LLCP, RLCP)\n",
    "    counts = count_left_right_occurrence(lcp1, str, mid_index)\n",
    "    print('such wort: ', str)\n",
    "    print('vergleiche: ', counter)\n",
    "    print('erster Fund: ', mid_index)\n",
    "    print('vorkommen: ', counts)\n"
   ],
   "metadata": {
    "collapsed": false,
    "pycharm": {
     "name": "#%%\n"
    }
   }
  },
  {
   "cell_type": "code",
   "execution_count": 178,
   "outputs": [
    {
     "name": "stdout",
     "output_type": "stream",
     "text": [
      "suchwort:   Charles \n",
      "performance time:  0.00011324882507324219\n",
      "suchwort:   Charles \n",
      "performance time:  4.100799560546875e-05\n",
      "suchwort:   Charles \n",
      "performance time:  4.124641418457031e-05\n",
      "suchwort:   Charles \n",
      "performance time:  3.886222839355469e-05\n",
      "suchwort:   Charles \n",
      "performance time:  3.790855407714844e-05\n",
      "suchwort:   hound \n",
      "performance time:  7.82012939453125e-05\n",
      "suchwort:   hound \n",
      "performance time:  6.604194641113281e-05\n",
      "suchwort:   hound \n",
      "performance time:  5.1975250244140625e-05\n",
      "suchwort:   hound \n",
      "performance time:  3.1948089599609375e-05\n",
      "suchwort:   hound \n",
      "performance time:  6.604194641113281e-05\n",
      "suchwort:   know \n",
      "performance time:  7.295608520507812e-05\n",
      "suchwort:   know \n",
      "performance time:  3.814697265625e-05\n",
      "suchwort:   know \n",
      "performance time:  7.915496826171875e-05\n",
      "suchwort:   know \n",
      "performance time:  4.076957702636719e-05\n",
      "suchwort:   know \n",
      "performance time:  3.600120544433594e-05\n"
     ]
    }
   ],
   "source": [
    "strings = [' Charles ', ' hound ', ' know ']\n",
    "for str in strings:\n",
    "    for i in range(5):\n",
    "        print('suchwort: ', str)\n",
    "        t_0 = time.time()\n",
    "        binary_search(hound_of_baskerville, indices_hob, str, LLCP, RLCP)\n",
    "        t_1 = time.time()\n",
    "        perf_time = t_1 - t_0\n",
    "        print('performance time: ', perf_time)\n"
   ],
   "metadata": {
    "collapsed": false,
    "pycharm": {
     "name": "#%% Performance Tests\n"
    }
   }
  }
 ],
 "metadata": {
  "kernelspec": {
   "display_name": "Python 3",
   "language": "python",
   "name": "python3"
  },
  "language_info": {
   "codemirror_mode": {
    "name": "ipython",
    "version": 2
   },
   "file_extension": ".py",
   "mimetype": "text/x-python",
   "name": "python",
   "nbconvert_exporter": "python",
   "pygments_lexer": "ipython2",
   "version": "2.7.6"
  }
 },
 "nbformat": 4,
 "nbformat_minor": 0
}