{
 "cells": [
  {
   "cell_type": "markdown",
   "source": [
    "Divide-Teil des Skew Alogrithm"
   ],
   "metadata": {
    "collapsed": false
   }
  },
  {
   "cell_type": "markdown",
   "source": [
    "Triple"
   ],
   "metadata": {
    "collapsed": false,
    "pycharm": {
     "name": "#%% md\n"
    }
   }
  },
  {
   "cell_type": "code",
   "execution_count": 1,
   "outputs": [],
   "source": [
    "def get_triplets(input_string):\n",
    "    triplets_1 = []\n",
    "    triplets_2 = []\n",
    "\n",
    "    for i in range(0, len(input_string) + 1):\n",
    "        substring = input_string[i: i + 3]\n",
    "        while(len(substring) < 3):\n",
    "            substring += '$'\n",
    "        #triplet = {\n",
    "        #    \"triplet\": substring,\n",
    "        #    \"position\": i + 1\n",
    "        #}\n",
    "        triplet = substring\n",
    "        mod_3 = i % 3\n",
    "\n",
    "        if(mod_3 == 1):\n",
    "            triplets_1.append(triplet)\n",
    "        elif(mod_3 == 2):\n",
    "            triplets_2.append(triplet)\n",
    "\n",
    "\n",
    "    return triplets_1 + triplets_2"
   ],
   "metadata": {
    "collapsed": false,
    "pycharm": {
     "name": "#%%\n"
    }
   }
  },
  {
   "cell_type": "markdown",
   "source": [
    "bucket Sort"
   ],
   "metadata": {
    "collapsed": false,
    "pycharm": {
     "name": "#%% md\n"
    }
   }
  },
  {
   "cell_type": "code",
   "execution_count": 2,
   "outputs": [],
   "source": [
    "def bucket_sort(triplets, index):\n",
    "    #buckets = { ''a': ['abr', 'asf']', }\n",
    "    buckets = {}\n",
    "\n",
    "    for i in range(len(triplets)):\n",
    "        t = triplets[i]\n",
    "        if t[index] in buckets.keys():\n",
    "            buckets[t[index]].append(t)\n",
    "        else:\n",
    "            buckets[t[index]] = []\n",
    "            buckets[t[index]].append(t)\n",
    "\n",
    "    sorted_list = []\n",
    "    for key in sorted(buckets.keys()):\n",
    "        sorted_list = sorted_list + buckets[key]\n",
    "\n",
    "    return sorted_list"
   ],
   "metadata": {
    "collapsed": false,
    "pycharm": {
     "name": "#%%\n"
    }
   }
  },
  {
   "cell_type": "markdown",
   "source": [
    "number Encoding"
   ],
   "metadata": {
    "collapsed": false,
    "pycharm": {
     "name": "#%% md\n"
    }
   }
  },
  {
   "cell_type": "code",
   "execution_count": 3,
   "outputs": [],
   "source": [
    "def encode(sorted_triplets, triplets, zeichenvergleiche):\n",
    "    encoded_triplets = []\n",
    "    without_duplicates = list(dict.fromkeys(list(map(lambda x: \"\".join(x), sorted_triplets))))\n",
    "    for triplet in list(map(lambda x: \"\".join(x), triplets)):\n",
    "        encoded_triplets.append(str(without_duplicates.index(triplet) + 1))\n",
    "        zeichenvergleiche += 1\n",
    "\n",
    "    has_duplicates = len(without_duplicates) < len(sorted_triplets)\n",
    "    return encoded_triplets, has_duplicates, zeichenvergleiche\n"
   ],
   "metadata": {
    "collapsed": false,
    "pycharm": {
     "name": "#%%\n"
    }
   }
  },
  {
   "cell_type": "markdown",
   "source": [
    "DivideKS"
   ],
   "metadata": {
    "collapsed": false
   }
  },
  {
   "cell_type": "code",
   "execution_count": 4,
   "outputs": [],
   "source": [
    "def divideKS(input, recursion, zeichenvergleiche):\n",
    "    triplets = get_triplets(input)\n",
    "    a = bucket_sort(triplets, 2)\n",
    "    a = bucket_sort(a, 1)\n",
    "    sorted_triplets = bucket_sort(a, 0)\n",
    "    #print(sorted_triplets)\n",
    "    encoded, has_duplicates, zeichenvergleiche = encode(sorted_triplets, triplets, zeichenvergleiche)\n",
    "    print(len(encoded), ' ')\n",
    "    if has_duplicates:\n",
    "        encoded, recursion, zeichenvergleiche = divideKS(encoded, recursion + 1, zeichenvergleiche)\n",
    "    return encoded, recursion, zeichenvergleiche\n"
   ],
   "metadata": {
    "collapsed": false,
    "pycharm": {
     "name": "#%%\n"
    }
   }
  },
  {
   "cell_type": "markdown",
   "source": [
    "Anwendung auf HoundOfBaskerville.txt"
   ],
   "metadata": {
    "collapsed": false
   }
  },
  {
   "cell_type": "code",
   "execution_count": 5,
   "outputs": [
    {
     "name": "stdout",
     "output_type": "stream",
     "text": [
      "49304\n",
      "32870\n",
      "21914\n",
      "14610\n",
      "rekursionen:  3\n",
      "zeichenverleiche:  118698\n"
     ]
    }
   ],
   "source": [
    "hound_of_baskerville = open('HoundOfBaskerville.txt', 'r+', encoding='utf-8').read()\n",
    "s = \"abracadabra\"\n",
    "sl = []\n",
    "sl[:0] = s\n",
    "encoded, recursion, zeichenverlgeiche = divideKS(hound_of_baskerville, 0, 0)\n",
    "#encoded, recursion, zeichenverlgeiche = divideKS(sl, 0, 0)\n",
    "\n",
    "#print('encoded: ', encoded)\n",
    "print('rekursionen: ', recursion)\n",
    "print('zeichenverleiche: ', zeichenverlgeiche)"
   ],
   "metadata": {
    "collapsed": false,
    "pycharm": {
     "name": "#%%\n"
    }
   }
  }
 ],
 "metadata": {
  "kernelspec": {
   "display_name": "Python 3",
   "language": "python",
   "name": "python3"
  },
  "language_info": {
   "codemirror_mode": {
    "name": "ipython",
    "version": 2
   },
   "file_extension": ".py",
   "mimetype": "text/x-python",
   "name": "python",
   "nbconvert_exporter": "python",
   "pygments_lexer": "ipython2",
   "version": "2.7.6"
  }
 },
 "nbformat": 4,
 "nbformat_minor": 0
}